{
 "cells": [
  {
   "cell_type": "code",
   "execution_count": 6,
   "metadata": {},
   "outputs": [],
   "source": [
    "from itertools import chain\n",
    "\n",
    "def generate_circuit(n=8, name='adder', id='adder') :\n",
    "    circuit = {\n",
    "        'id' : id,\n",
    "        'alice' : [1] + [5+7*i for i in range(n-1)],\n",
    "        'bob' : [2] + [6+7*i for i in range(n-1)],\n",
    "        'out' : [3] + [8+7*i for i in range(n-1)],\n",
    "        'gates' : [\n",
    "            { 'id' : 3, 'type' : 'XOR', 'in' : [1,2] },\n",
    "            { 'id' : 4, 'type' : 'AND', 'in' : [1,2] }\n",
    "        ] + list(chain.from_iterable([\n",
    "            [{ 'id' : 7+7*i, 'type' : 'XOR', 'in' : [5+7*i, 6+7*i] },\n",
    "            { 'id' : 8+7*i, 'type' : 'XOR', 'in' : [4+7*i, 7+7*i] },\n",
    "            { 'id' : 9+7*i, 'type' : 'AND', 'in' : [4+7*i, 7+7*i] },\n",
    "            { 'id' : 10+7*i, 'type' : 'AND', 'in' : [5+7*i, 6+7*i] },\n",
    "            { 'id' : 11+7*i, 'type' : 'OR', 'in' : [9+7*i, 10+7*i] }]\n",
    "        for i in range(n-2) ])) + [\n",
    "            { 'id' : 7+7*(n-2), 'type' : 'XOR', 'in' : [5+7*(n-2), 6+7*(n-2)] },\n",
    "            { 'id' : 8+7*(n-2), 'type' : 'XOR', 'in' : [4+7*(n-2), 7+7*(n-2)] }\n",
    "        ]\n",
    "    }\n",
    "    return { 'name' : name, 'circuits' : [circuit] }"
   ]
  },
  {
   "cell_type": "code",
   "execution_count": 7,
   "metadata": {},
   "outputs": [],
   "source": [
    "import json\n",
    "with open('adder.json', 'w') as f :\n",
    "    json.dump(generate_circuit(8), f)"
   ]
  }
 ],
 "metadata": {
  "kernelspec": {
   "display_name": "Python 3",
   "language": "python",
   "name": "python3"
  },
  "language_info": {
   "codemirror_mode": {
    "name": "ipython",
    "version": 3
   },
   "file_extension": ".py",
   "mimetype": "text/x-python",
   "name": "python",
   "nbconvert_exporter": "python",
   "pygments_lexer": "ipython3",
   "version": "3.11.2"
  },
  "orig_nbformat": 4
 },
 "nbformat": 4,
 "nbformat_minor": 2
}
